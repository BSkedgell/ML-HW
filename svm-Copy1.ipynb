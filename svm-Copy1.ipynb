{
 "cells": [
  {
   "cell_type": "code",
   "execution_count": null,
   "metadata": {},
   "outputs": [],
   "source": [
    "#Import\n",
    "import pandas as pd\n",
    "import numpy as np\n",
    "from sklearn import svm \n",
    "import matplotlib.pyplot as plt\n",
    "\n",
    "from matplotlib import style\n",
    "style.use(\"ggplot\")"
   ]
  },
  {
   "cell_type": "markdown",
   "metadata": {},
   "source": [
    "# Read the CSV and Perform Basic Data Cleaning"
   ]
  },
  {
   "cell_type": "code",
   "execution_count": 2,
   "metadata": {},
   "outputs": [
    {
     "data": {
      "text/html": [
       "<div>\n",
       "<style scoped>\n",
       "    .dataframe tbody tr th:only-of-type {\n",
       "        vertical-align: middle;\n",
       "    }\n",
       "\n",
       "    .dataframe tbody tr th {\n",
       "        vertical-align: top;\n",
       "    }\n",
       "\n",
       "    .dataframe thead th {\n",
       "        text-align: right;\n",
       "    }\n",
       "</style>\n",
       "<table border=\"1\" class=\"dataframe\">\n",
       "  <thead>\n",
       "    <tr style=\"text-align: right;\">\n",
       "      <th></th>\n",
       "      <th>koi_disposition</th>\n",
       "      <th>koi_fpflag_nt</th>\n",
       "      <th>koi_fpflag_ss</th>\n",
       "      <th>koi_fpflag_co</th>\n",
       "      <th>koi_fpflag_ec</th>\n",
       "      <th>koi_period</th>\n",
       "      <th>koi_period_err1</th>\n",
       "      <th>koi_period_err2</th>\n",
       "      <th>koi_time0bk</th>\n",
       "      <th>koi_time0bk_err1</th>\n",
       "      <th>...</th>\n",
       "      <th>koi_steff_err2</th>\n",
       "      <th>koi_slogg</th>\n",
       "      <th>koi_slogg_err1</th>\n",
       "      <th>koi_slogg_err2</th>\n",
       "      <th>koi_srad</th>\n",
       "      <th>koi_srad_err1</th>\n",
       "      <th>koi_srad_err2</th>\n",
       "      <th>ra</th>\n",
       "      <th>dec</th>\n",
       "      <th>koi_kepmag</th>\n",
       "    </tr>\n",
       "  </thead>\n",
       "  <tbody>\n",
       "    <tr>\n",
       "      <th>0</th>\n",
       "      <td>CONFIRMED</td>\n",
       "      <td>0</td>\n",
       "      <td>0</td>\n",
       "      <td>0</td>\n",
       "      <td>0</td>\n",
       "      <td>9.488036</td>\n",
       "      <td>2.775000e-05</td>\n",
       "      <td>-2.775000e-05</td>\n",
       "      <td>170.538750</td>\n",
       "      <td>0.002160</td>\n",
       "      <td>...</td>\n",
       "      <td>-81.0</td>\n",
       "      <td>4.467</td>\n",
       "      <td>0.064</td>\n",
       "      <td>-0.096</td>\n",
       "      <td>0.927</td>\n",
       "      <td>0.105</td>\n",
       "      <td>-0.061</td>\n",
       "      <td>291.93423</td>\n",
       "      <td>48.141651</td>\n",
       "      <td>15.347</td>\n",
       "    </tr>\n",
       "    <tr>\n",
       "      <th>1</th>\n",
       "      <td>CONFIRMED</td>\n",
       "      <td>0</td>\n",
       "      <td>0</td>\n",
       "      <td>0</td>\n",
       "      <td>0</td>\n",
       "      <td>54.418383</td>\n",
       "      <td>2.479000e-04</td>\n",
       "      <td>-2.479000e-04</td>\n",
       "      <td>162.513840</td>\n",
       "      <td>0.003520</td>\n",
       "      <td>...</td>\n",
       "      <td>-81.0</td>\n",
       "      <td>4.467</td>\n",
       "      <td>0.064</td>\n",
       "      <td>-0.096</td>\n",
       "      <td>0.927</td>\n",
       "      <td>0.105</td>\n",
       "      <td>-0.061</td>\n",
       "      <td>291.93423</td>\n",
       "      <td>48.141651</td>\n",
       "      <td>15.347</td>\n",
       "    </tr>\n",
       "    <tr>\n",
       "      <th>2</th>\n",
       "      <td>FALSE POSITIVE</td>\n",
       "      <td>0</td>\n",
       "      <td>1</td>\n",
       "      <td>0</td>\n",
       "      <td>0</td>\n",
       "      <td>19.899140</td>\n",
       "      <td>1.494000e-05</td>\n",
       "      <td>-1.494000e-05</td>\n",
       "      <td>175.850252</td>\n",
       "      <td>0.000581</td>\n",
       "      <td>...</td>\n",
       "      <td>-176.0</td>\n",
       "      <td>4.544</td>\n",
       "      <td>0.044</td>\n",
       "      <td>-0.176</td>\n",
       "      <td>0.868</td>\n",
       "      <td>0.233</td>\n",
       "      <td>-0.078</td>\n",
       "      <td>297.00482</td>\n",
       "      <td>48.134129</td>\n",
       "      <td>15.436</td>\n",
       "    </tr>\n",
       "    <tr>\n",
       "      <th>3</th>\n",
       "      <td>FALSE POSITIVE</td>\n",
       "      <td>0</td>\n",
       "      <td>1</td>\n",
       "      <td>0</td>\n",
       "      <td>0</td>\n",
       "      <td>1.736952</td>\n",
       "      <td>2.630000e-07</td>\n",
       "      <td>-2.630000e-07</td>\n",
       "      <td>170.307565</td>\n",
       "      <td>0.000115</td>\n",
       "      <td>...</td>\n",
       "      <td>-174.0</td>\n",
       "      <td>4.564</td>\n",
       "      <td>0.053</td>\n",
       "      <td>-0.168</td>\n",
       "      <td>0.791</td>\n",
       "      <td>0.201</td>\n",
       "      <td>-0.067</td>\n",
       "      <td>285.53461</td>\n",
       "      <td>48.285210</td>\n",
       "      <td>15.597</td>\n",
       "    </tr>\n",
       "    <tr>\n",
       "      <th>4</th>\n",
       "      <td>CONFIRMED</td>\n",
       "      <td>0</td>\n",
       "      <td>0</td>\n",
       "      <td>0</td>\n",
       "      <td>0</td>\n",
       "      <td>2.525592</td>\n",
       "      <td>3.761000e-06</td>\n",
       "      <td>-3.761000e-06</td>\n",
       "      <td>171.595550</td>\n",
       "      <td>0.001130</td>\n",
       "      <td>...</td>\n",
       "      <td>-211.0</td>\n",
       "      <td>4.438</td>\n",
       "      <td>0.070</td>\n",
       "      <td>-0.210</td>\n",
       "      <td>1.046</td>\n",
       "      <td>0.334</td>\n",
       "      <td>-0.133</td>\n",
       "      <td>288.75488</td>\n",
       "      <td>48.226200</td>\n",
       "      <td>15.509</td>\n",
       "    </tr>\n",
       "  </tbody>\n",
       "</table>\n",
       "<p>5 rows × 41 columns</p>\n",
       "</div>"
      ],
      "text/plain": [
       "  koi_disposition  koi_fpflag_nt  koi_fpflag_ss  koi_fpflag_co  koi_fpflag_ec  \\\n",
       "0       CONFIRMED              0              0              0              0   \n",
       "1       CONFIRMED              0              0              0              0   \n",
       "2  FALSE POSITIVE              0              1              0              0   \n",
       "3  FALSE POSITIVE              0              1              0              0   \n",
       "4       CONFIRMED              0              0              0              0   \n",
       "\n",
       "   koi_period  koi_period_err1  koi_period_err2  koi_time0bk  \\\n",
       "0    9.488036     2.775000e-05    -2.775000e-05   170.538750   \n",
       "1   54.418383     2.479000e-04    -2.479000e-04   162.513840   \n",
       "2   19.899140     1.494000e-05    -1.494000e-05   175.850252   \n",
       "3    1.736952     2.630000e-07    -2.630000e-07   170.307565   \n",
       "4    2.525592     3.761000e-06    -3.761000e-06   171.595550   \n",
       "\n",
       "   koi_time0bk_err1     ...      koi_steff_err2  koi_slogg  koi_slogg_err1  \\\n",
       "0          0.002160     ...               -81.0      4.467           0.064   \n",
       "1          0.003520     ...               -81.0      4.467           0.064   \n",
       "2          0.000581     ...              -176.0      4.544           0.044   \n",
       "3          0.000115     ...              -174.0      4.564           0.053   \n",
       "4          0.001130     ...              -211.0      4.438           0.070   \n",
       "\n",
       "   koi_slogg_err2  koi_srad  koi_srad_err1  koi_srad_err2         ra  \\\n",
       "0          -0.096     0.927          0.105         -0.061  291.93423   \n",
       "1          -0.096     0.927          0.105         -0.061  291.93423   \n",
       "2          -0.176     0.868          0.233         -0.078  297.00482   \n",
       "3          -0.168     0.791          0.201         -0.067  285.53461   \n",
       "4          -0.210     1.046          0.334         -0.133  288.75488   \n",
       "\n",
       "         dec  koi_kepmag  \n",
       "0  48.141651      15.347  \n",
       "1  48.141651      15.347  \n",
       "2  48.134129      15.436  \n",
       "3  48.285210      15.597  \n",
       "4  48.226200      15.509  \n",
       "\n",
       "[5 rows x 41 columns]"
      ]
     },
     "execution_count": 2,
     "metadata": {},
     "output_type": "execute_result"
    }
   ],
   "source": [
    "#Import CSV \n",
    "df = pd.read_csv(\"cumulative_copy.csv\")\n",
    "df = df.drop(columns=[\"rowid\", \"kepid\", \"kepoi_name\", \"kepler_name\", \"koi_pdisposition\", \"koi_score\", \"koi_tce_delivname\"])\n",
    "# Drop the null columns where all values are null\n",
    "df = df.dropna(axis='columns', how='all')\n",
    "# Drop the null rows\n",
    "df = df.dropna()\n",
    "df.head()"
   ]
  },
  {
   "cell_type": "markdown",
   "metadata": {},
   "source": [
    "# Create a Train Test Split\n",
    "\n",
    "Use `koi_disposition` for the y values"
   ]
  },
  {
   "cell_type": "code",
   "execution_count": 3,
   "metadata": {},
   "outputs": [],
   "source": [
    "#Y VALUES\n",
    "target = df[\"koi_disposition\"]\n",
    "target_names = [\"CONFIRMED\", \"FALSE POSITIVE\"]"
   ]
  },
  {
   "cell_type": "code",
   "execution_count": 4,
   "metadata": {},
   "outputs": [
    {
     "data": {
      "text/html": [
       "<div>\n",
       "<style scoped>\n",
       "    .dataframe tbody tr th:only-of-type {\n",
       "        vertical-align: middle;\n",
       "    }\n",
       "\n",
       "    .dataframe tbody tr th {\n",
       "        vertical-align: top;\n",
       "    }\n",
       "\n",
       "    .dataframe thead th {\n",
       "        text-align: right;\n",
       "    }\n",
       "</style>\n",
       "<table border=\"1\" class=\"dataframe\">\n",
       "  <thead>\n",
       "    <tr style=\"text-align: right;\">\n",
       "      <th></th>\n",
       "      <th>koi_fpflag_nt</th>\n",
       "      <th>koi_fpflag_ss</th>\n",
       "      <th>koi_fpflag_co</th>\n",
       "      <th>koi_fpflag_ec</th>\n",
       "      <th>koi_period</th>\n",
       "      <th>koi_period_err1</th>\n",
       "      <th>koi_period_err2</th>\n",
       "      <th>koi_time0bk</th>\n",
       "      <th>koi_time0bk_err1</th>\n",
       "      <th>koi_time0bk_err2</th>\n",
       "      <th>...</th>\n",
       "      <th>koi_steff_err2</th>\n",
       "      <th>koi_slogg</th>\n",
       "      <th>koi_slogg_err1</th>\n",
       "      <th>koi_slogg_err2</th>\n",
       "      <th>koi_srad</th>\n",
       "      <th>koi_srad_err1</th>\n",
       "      <th>koi_srad_err2</th>\n",
       "      <th>ra</th>\n",
       "      <th>dec</th>\n",
       "      <th>koi_kepmag</th>\n",
       "    </tr>\n",
       "  </thead>\n",
       "  <tbody>\n",
       "    <tr>\n",
       "      <th>0</th>\n",
       "      <td>0</td>\n",
       "      <td>0</td>\n",
       "      <td>0</td>\n",
       "      <td>0</td>\n",
       "      <td>9.488036</td>\n",
       "      <td>2.775000e-05</td>\n",
       "      <td>-2.775000e-05</td>\n",
       "      <td>170.538750</td>\n",
       "      <td>0.002160</td>\n",
       "      <td>-0.002160</td>\n",
       "      <td>...</td>\n",
       "      <td>-81.0</td>\n",
       "      <td>4.467</td>\n",
       "      <td>0.064</td>\n",
       "      <td>-0.096</td>\n",
       "      <td>0.927</td>\n",
       "      <td>0.105</td>\n",
       "      <td>-0.061</td>\n",
       "      <td>291.93423</td>\n",
       "      <td>48.141651</td>\n",
       "      <td>15.347</td>\n",
       "    </tr>\n",
       "    <tr>\n",
       "      <th>1</th>\n",
       "      <td>0</td>\n",
       "      <td>0</td>\n",
       "      <td>0</td>\n",
       "      <td>0</td>\n",
       "      <td>54.418383</td>\n",
       "      <td>2.479000e-04</td>\n",
       "      <td>-2.479000e-04</td>\n",
       "      <td>162.513840</td>\n",
       "      <td>0.003520</td>\n",
       "      <td>-0.003520</td>\n",
       "      <td>...</td>\n",
       "      <td>-81.0</td>\n",
       "      <td>4.467</td>\n",
       "      <td>0.064</td>\n",
       "      <td>-0.096</td>\n",
       "      <td>0.927</td>\n",
       "      <td>0.105</td>\n",
       "      <td>-0.061</td>\n",
       "      <td>291.93423</td>\n",
       "      <td>48.141651</td>\n",
       "      <td>15.347</td>\n",
       "    </tr>\n",
       "    <tr>\n",
       "      <th>2</th>\n",
       "      <td>0</td>\n",
       "      <td>1</td>\n",
       "      <td>0</td>\n",
       "      <td>0</td>\n",
       "      <td>19.899140</td>\n",
       "      <td>1.494000e-05</td>\n",
       "      <td>-1.494000e-05</td>\n",
       "      <td>175.850252</td>\n",
       "      <td>0.000581</td>\n",
       "      <td>-0.000581</td>\n",
       "      <td>...</td>\n",
       "      <td>-176.0</td>\n",
       "      <td>4.544</td>\n",
       "      <td>0.044</td>\n",
       "      <td>-0.176</td>\n",
       "      <td>0.868</td>\n",
       "      <td>0.233</td>\n",
       "      <td>-0.078</td>\n",
       "      <td>297.00482</td>\n",
       "      <td>48.134129</td>\n",
       "      <td>15.436</td>\n",
       "    </tr>\n",
       "    <tr>\n",
       "      <th>3</th>\n",
       "      <td>0</td>\n",
       "      <td>1</td>\n",
       "      <td>0</td>\n",
       "      <td>0</td>\n",
       "      <td>1.736952</td>\n",
       "      <td>2.630000e-07</td>\n",
       "      <td>-2.630000e-07</td>\n",
       "      <td>170.307565</td>\n",
       "      <td>0.000115</td>\n",
       "      <td>-0.000115</td>\n",
       "      <td>...</td>\n",
       "      <td>-174.0</td>\n",
       "      <td>4.564</td>\n",
       "      <td>0.053</td>\n",
       "      <td>-0.168</td>\n",
       "      <td>0.791</td>\n",
       "      <td>0.201</td>\n",
       "      <td>-0.067</td>\n",
       "      <td>285.53461</td>\n",
       "      <td>48.285210</td>\n",
       "      <td>15.597</td>\n",
       "    </tr>\n",
       "    <tr>\n",
       "      <th>4</th>\n",
       "      <td>0</td>\n",
       "      <td>0</td>\n",
       "      <td>0</td>\n",
       "      <td>0</td>\n",
       "      <td>2.525592</td>\n",
       "      <td>3.761000e-06</td>\n",
       "      <td>-3.761000e-06</td>\n",
       "      <td>171.595550</td>\n",
       "      <td>0.001130</td>\n",
       "      <td>-0.001130</td>\n",
       "      <td>...</td>\n",
       "      <td>-211.0</td>\n",
       "      <td>4.438</td>\n",
       "      <td>0.070</td>\n",
       "      <td>-0.210</td>\n",
       "      <td>1.046</td>\n",
       "      <td>0.334</td>\n",
       "      <td>-0.133</td>\n",
       "      <td>288.75488</td>\n",
       "      <td>48.226200</td>\n",
       "      <td>15.509</td>\n",
       "    </tr>\n",
       "  </tbody>\n",
       "</table>\n",
       "<p>5 rows × 40 columns</p>\n",
       "</div>"
      ],
      "text/plain": [
       "   koi_fpflag_nt  koi_fpflag_ss  koi_fpflag_co  koi_fpflag_ec  koi_period  \\\n",
       "0              0              0              0              0    9.488036   \n",
       "1              0              0              0              0   54.418383   \n",
       "2              0              1              0              0   19.899140   \n",
       "3              0              1              0              0    1.736952   \n",
       "4              0              0              0              0    2.525592   \n",
       "\n",
       "   koi_period_err1  koi_period_err2  koi_time0bk  koi_time0bk_err1  \\\n",
       "0     2.775000e-05    -2.775000e-05   170.538750          0.002160   \n",
       "1     2.479000e-04    -2.479000e-04   162.513840          0.003520   \n",
       "2     1.494000e-05    -1.494000e-05   175.850252          0.000581   \n",
       "3     2.630000e-07    -2.630000e-07   170.307565          0.000115   \n",
       "4     3.761000e-06    -3.761000e-06   171.595550          0.001130   \n",
       "\n",
       "   koi_time0bk_err2     ...      koi_steff_err2  koi_slogg  koi_slogg_err1  \\\n",
       "0         -0.002160     ...               -81.0      4.467           0.064   \n",
       "1         -0.003520     ...               -81.0      4.467           0.064   \n",
       "2         -0.000581     ...              -176.0      4.544           0.044   \n",
       "3         -0.000115     ...              -174.0      4.564           0.053   \n",
       "4         -0.001130     ...              -211.0      4.438           0.070   \n",
       "\n",
       "   koi_slogg_err2  koi_srad  koi_srad_err1  koi_srad_err2         ra  \\\n",
       "0          -0.096     0.927          0.105         -0.061  291.93423   \n",
       "1          -0.096     0.927          0.105         -0.061  291.93423   \n",
       "2          -0.176     0.868          0.233         -0.078  297.00482   \n",
       "3          -0.168     0.791          0.201         -0.067  285.53461   \n",
       "4          -0.210     1.046          0.334         -0.133  288.75488   \n",
       "\n",
       "         dec  koi_kepmag  \n",
       "0  48.141651      15.347  \n",
       "1  48.141651      15.347  \n",
       "2  48.134129      15.436  \n",
       "3  48.285210      15.597  \n",
       "4  48.226200      15.509  \n",
       "\n",
       "[5 rows x 40 columns]"
      ]
     },
     "execution_count": 4,
     "metadata": {},
     "output_type": "execute_result"
    }
   ],
   "source": [
    "#X Values\n",
    "data = df.drop(\"koi_disposition\", axis=1)\n",
    "feature_names = data.columns\n",
    "data.head()"
   ]
  },
  {
   "cell_type": "code",
   "execution_count": 5,
   "metadata": {},
   "outputs": [],
   "source": [
    "from sklearn.model_selection import train_test_split\n",
    "X_train, X_test, y_train, y_test = train_test_split(data, target,\n",
    "                                                    train_size=80,\n",
    "                                                    test_size=20,\n",
    "                                                    random_state=24)"
   ]
  },
  {
   "cell_type": "code",
   "execution_count": 6,
   "metadata": {},
   "outputs": [
    {
     "data": {
      "text/html": [
       "<div>\n",
       "<style scoped>\n",
       "    .dataframe tbody tr th:only-of-type {\n",
       "        vertical-align: middle;\n",
       "    }\n",
       "\n",
       "    .dataframe tbody tr th {\n",
       "        vertical-align: top;\n",
       "    }\n",
       "\n",
       "    .dataframe thead th {\n",
       "        text-align: right;\n",
       "    }\n",
       "</style>\n",
       "<table border=\"1\" class=\"dataframe\">\n",
       "  <thead>\n",
       "    <tr style=\"text-align: right;\">\n",
       "      <th></th>\n",
       "      <th>koi_fpflag_nt</th>\n",
       "      <th>koi_fpflag_ss</th>\n",
       "      <th>koi_fpflag_co</th>\n",
       "      <th>koi_fpflag_ec</th>\n",
       "      <th>koi_period</th>\n",
       "      <th>koi_period_err1</th>\n",
       "      <th>koi_period_err2</th>\n",
       "      <th>koi_time0bk</th>\n",
       "      <th>koi_time0bk_err1</th>\n",
       "      <th>koi_time0bk_err2</th>\n",
       "      <th>...</th>\n",
       "      <th>koi_steff_err2</th>\n",
       "      <th>koi_slogg</th>\n",
       "      <th>koi_slogg_err1</th>\n",
       "      <th>koi_slogg_err2</th>\n",
       "      <th>koi_srad</th>\n",
       "      <th>koi_srad_err1</th>\n",
       "      <th>koi_srad_err2</th>\n",
       "      <th>ra</th>\n",
       "      <th>dec</th>\n",
       "      <th>koi_kepmag</th>\n",
       "    </tr>\n",
       "  </thead>\n",
       "  <tbody>\n",
       "    <tr>\n",
       "      <th>4979</th>\n",
       "      <td>0</td>\n",
       "      <td>0</td>\n",
       "      <td>0</td>\n",
       "      <td>0</td>\n",
       "      <td>23.133449</td>\n",
       "      <td>0.000108</td>\n",
       "      <td>-0.000108</td>\n",
       "      <td>154.45296</td>\n",
       "      <td>0.00394</td>\n",
       "      <td>-0.00394</td>\n",
       "      <td>...</td>\n",
       "      <td>-170.0</td>\n",
       "      <td>4.382</td>\n",
       "      <td>0.189</td>\n",
       "      <td>-0.231</td>\n",
       "      <td>0.932</td>\n",
       "      <td>0.291</td>\n",
       "      <td>-0.170</td>\n",
       "      <td>297.75192</td>\n",
       "      <td>43.447578</td>\n",
       "      <td>14.656</td>\n",
       "    </tr>\n",
       "    <tr>\n",
       "      <th>2934</th>\n",
       "      <td>0</td>\n",
       "      <td>0</td>\n",
       "      <td>0</td>\n",
       "      <td>0</td>\n",
       "      <td>10.183182</td>\n",
       "      <td>0.000098</td>\n",
       "      <td>-0.000098</td>\n",
       "      <td>133.21404</td>\n",
       "      <td>0.00752</td>\n",
       "      <td>-0.00752</td>\n",
       "      <td>...</td>\n",
       "      <td>-127.0</td>\n",
       "      <td>4.421</td>\n",
       "      <td>0.040</td>\n",
       "      <td>-0.120</td>\n",
       "      <td>1.084</td>\n",
       "      <td>0.177</td>\n",
       "      <td>-0.071</td>\n",
       "      <td>287.97885</td>\n",
       "      <td>42.679359</td>\n",
       "      <td>12.857</td>\n",
       "    </tr>\n",
       "    <tr>\n",
       "      <th>7244</th>\n",
       "      <td>1</td>\n",
       "      <td>0</td>\n",
       "      <td>0</td>\n",
       "      <td>0</td>\n",
       "      <td>75.072964</td>\n",
       "      <td>0.004914</td>\n",
       "      <td>-0.004914</td>\n",
       "      <td>147.15910</td>\n",
       "      <td>0.03730</td>\n",
       "      <td>-0.03730</td>\n",
       "      <td>...</td>\n",
       "      <td>-215.0</td>\n",
       "      <td>4.325</td>\n",
       "      <td>0.086</td>\n",
       "      <td>-0.373</td>\n",
       "      <td>1.248</td>\n",
       "      <td>0.855</td>\n",
       "      <td>-0.182</td>\n",
       "      <td>296.58698</td>\n",
       "      <td>43.766918</td>\n",
       "      <td>12.236</td>\n",
       "    </tr>\n",
       "    <tr>\n",
       "      <th>1895</th>\n",
       "      <td>0</td>\n",
       "      <td>0</td>\n",
       "      <td>0</td>\n",
       "      <td>0</td>\n",
       "      <td>16.076731</td>\n",
       "      <td>0.000065</td>\n",
       "      <td>-0.000065</td>\n",
       "      <td>143.39091</td>\n",
       "      <td>0.00337</td>\n",
       "      <td>-0.00337</td>\n",
       "      <td>...</td>\n",
       "      <td>-195.0</td>\n",
       "      <td>4.498</td>\n",
       "      <td>0.052</td>\n",
       "      <td>-0.221</td>\n",
       "      <td>0.971</td>\n",
       "      <td>0.299</td>\n",
       "      <td>-0.100</td>\n",
       "      <td>288.47964</td>\n",
       "      <td>47.101768</td>\n",
       "      <td>15.306</td>\n",
       "    </tr>\n",
       "    <tr>\n",
       "      <th>9415</th>\n",
       "      <td>1</td>\n",
       "      <td>0</td>\n",
       "      <td>1</td>\n",
       "      <td>1</td>\n",
       "      <td>3.044775</td>\n",
       "      <td>0.000120</td>\n",
       "      <td>-0.000120</td>\n",
       "      <td>132.39750</td>\n",
       "      <td>0.03660</td>\n",
       "      <td>-0.03660</td>\n",
       "      <td>...</td>\n",
       "      <td>-159.0</td>\n",
       "      <td>4.591</td>\n",
       "      <td>0.035</td>\n",
       "      <td>-0.112</td>\n",
       "      <td>0.780</td>\n",
       "      <td>0.132</td>\n",
       "      <td>-0.066</td>\n",
       "      <td>293.66754</td>\n",
       "      <td>45.498451</td>\n",
       "      <td>15.964</td>\n",
       "    </tr>\n",
       "  </tbody>\n",
       "</table>\n",
       "<p>5 rows × 40 columns</p>\n",
       "</div>"
      ],
      "text/plain": [
       "      koi_fpflag_nt  koi_fpflag_ss  koi_fpflag_co  koi_fpflag_ec  koi_period  \\\n",
       "4979              0              0              0              0   23.133449   \n",
       "2934              0              0              0              0   10.183182   \n",
       "7244              1              0              0              0   75.072964   \n",
       "1895              0              0              0              0   16.076731   \n",
       "9415              1              0              1              1    3.044775   \n",
       "\n",
       "      koi_period_err1  koi_period_err2  koi_time0bk  koi_time0bk_err1  \\\n",
       "4979         0.000108        -0.000108    154.45296           0.00394   \n",
       "2934         0.000098        -0.000098    133.21404           0.00752   \n",
       "7244         0.004914        -0.004914    147.15910           0.03730   \n",
       "1895         0.000065        -0.000065    143.39091           0.00337   \n",
       "9415         0.000120        -0.000120    132.39750           0.03660   \n",
       "\n",
       "      koi_time0bk_err2     ...      koi_steff_err2  koi_slogg  koi_slogg_err1  \\\n",
       "4979          -0.00394     ...              -170.0      4.382           0.189   \n",
       "2934          -0.00752     ...              -127.0      4.421           0.040   \n",
       "7244          -0.03730     ...              -215.0      4.325           0.086   \n",
       "1895          -0.00337     ...              -195.0      4.498           0.052   \n",
       "9415          -0.03660     ...              -159.0      4.591           0.035   \n",
       "\n",
       "      koi_slogg_err2  koi_srad  koi_srad_err1  koi_srad_err2         ra  \\\n",
       "4979          -0.231     0.932          0.291         -0.170  297.75192   \n",
       "2934          -0.120     1.084          0.177         -0.071  287.97885   \n",
       "7244          -0.373     1.248          0.855         -0.182  296.58698   \n",
       "1895          -0.221     0.971          0.299         -0.100  288.47964   \n",
       "9415          -0.112     0.780          0.132         -0.066  293.66754   \n",
       "\n",
       "            dec  koi_kepmag  \n",
       "4979  43.447578      14.656  \n",
       "2934  42.679359      12.857  \n",
       "7244  43.766918      12.236  \n",
       "1895  47.101768      15.306  \n",
       "9415  45.498451      15.964  \n",
       "\n",
       "[5 rows x 40 columns]"
      ]
     },
     "execution_count": 6,
     "metadata": {},
     "output_type": "execute_result"
    }
   ],
   "source": [
    "X_train.head()"
   ]
  },
  {
   "cell_type": "markdown",
   "metadata": {},
   "source": [
    "# Pre-processing\n",
    "\n",
    "Scale the data using the MinMaxScaler"
   ]
  },
  {
   "cell_type": "code",
   "execution_count": 7,
   "metadata": {},
   "outputs": [
    {
     "name": "stdout",
     "output_type": "stream",
     "text": [
      "MinMaxScaler(copy=True, feature_range=(0, 1))\n",
      "[[0.         0.         0.         ... 0.89256582 0.42877819 0.7007217 ]\n",
      " [0.         0.         0.         ... 0.30073129 0.3712365  0.29499323]\n",
      " [1.         0.         0.         ... 0.82201974 0.45269763 0.15493911]\n",
      " ...\n",
      " [0.         1.         1.         ... 0.63727701 0.14733214 0.99142986]\n",
      " [0.         0.         0.         ... 0.08648788 0.21735944 0.80559314]\n",
      " [0.         0.         0.         ... 0.28372367 0.34572157 0.21402797]]\n"
     ]
    },
    {
     "name": "stderr",
     "output_type": "stream",
     "text": [
      "/anaconda3/envs/PythonData/lib/python3.6/site-packages/sklearn/preprocessing/data.py:323: DataConversionWarning: Data with input dtype int64, float64 were all converted to float64 by MinMaxScaler.\n",
      "  return self.partial_fit(X, y)\n",
      "/anaconda3/envs/PythonData/lib/python3.6/site-packages/sklearn/preprocessing/data.py:323: DataConversionWarning: Data with input dtype int64, float64 were all converted to float64 by MinMaxScaler.\n",
      "  return self.partial_fit(X, y)\n"
     ]
    }
   ],
   "source": [
    "from sklearn.preprocessing import MinMaxScaler\n",
    "from sklearn import preprocessing\n",
    "\n",
    "scaler = preprocessing.MinMaxScaler()\n",
    "scaled_Xtrain = scaler.fit_transform(X_train)\n",
    "scaled_Xtest = scaler.fit_transform(X_test)\n",
    "\n",
    "print(scaler)\n",
    "print(scaled_Xtrain)"
   ]
  },
  {
   "cell_type": "code",
   "execution_count": 8,
   "metadata": {},
   "outputs": [
    {
     "name": "stdout",
     "output_type": "stream",
     "text": [
      "['CANDIDATE' 'CONFIRMED' 'FALSE POSITIVE']\n",
      "[2 1 2 2 2 1 0 1 2 1 1 0 0 1 2 0 2 2 2 2]\n",
      "[0 0 2 1 2 0 2 0 0 1 2 2 0 2 0 1 0 1 1 2 0 0 1 1 0 0 0 1 1 2 0 1 2 2 0 2 2\n",
      " 1 2 0 2 0 1 1 0 0 1 1 0 2 1 2 1 1 2 1 2 2 1 2 2 1 0 2 1 2 2 0 2 2 2 0 2 2\n",
      " 2 0 1 2 0 1]\n"
     ]
    }
   ],
   "source": [
    "#LabelEncoder()\n",
    "#Encode classes for target data // not using thooo\n",
    "\n",
    "#turning the target into a nurmerical value\n",
    "\n",
    "le = preprocessing.LabelEncoder()\n",
    "le.fit(target)\n",
    "\n",
    "y_train_encoded = le.transform(y_train)\n",
    "y_test_encoded = le.transform(y_test)\n",
    "\n",
    "print(le.classes_)\n",
    "print(y_test_encoded)\n",
    "print(y_train_encoded)"
   ]
  },
  {
   "cell_type": "markdown",
   "metadata": {},
   "source": [
    "# Train the Support Vector Machine"
   ]
  },
  {
   "cell_type": "code",
   "execution_count": 9,
   "metadata": {},
   "outputs": [],
   "source": [
    "from sklearn.svm import SVC \n",
    "from sklearn.metrics import classification_report"
   ]
  },
  {
   "cell_type": "code",
   "execution_count": 10,
   "metadata": {},
   "outputs": [
    {
     "data": {
      "text/plain": [
       "SVC(C=1.0, cache_size=200, class_weight=None, coef0=0.0,\n",
       "  decision_function_shape='ovr', degree=3, gamma='auto_deprecated',\n",
       "  kernel='linear', max_iter=-1, probability=False, random_state=None,\n",
       "  shrinking=True, tol=0.001, verbose=False)"
      ]
     },
     "execution_count": 10,
     "metadata": {},
     "output_type": "execute_result"
    }
   ],
   "source": [
    "model12 = SVC(kernel='linear')\n",
    "model12.fit(scaled_Xtrain, y_train)\n"
   ]
  },
  {
   "cell_type": "code",
   "execution_count": 11,
   "metadata": {},
   "outputs": [
    {
     "name": "stdout",
     "output_type": "stream",
     "text": [
      "Training Data Score: 0.85\n",
      "Testing Data Score: 0.75\n"
     ]
    }
   ],
   "source": [
    "#Refer to compare models\n",
    "print(f\"Training Data Score: {model12.score(scaled_Xtrain, y_train)}\")\n",
    "print(f\"Testing Data Score: {model12.score(scaled_Xtest, y_test)}\")"
   ]
  },
  {
   "cell_type": "markdown",
   "metadata": {},
   "source": [
    "# Hyperparameter Tuning\n",
    "\n",
    "Use `GridSearchCV` to tune the `C` and `gamma` parameters"
   ]
  },
  {
   "cell_type": "code",
   "execution_count": 25,
   "metadata": {},
   "outputs": [],
   "source": [
    "\n",
    "# Create the GridSearchCV model\n",
    "from sklearn.model_selection import GridSearchCV\n",
    "param_grid = {'C': [1, 5, 10, 50],\n",
    "              'gamma': [0.0001, 0.0005, 0.001, 0.005]}\n",
    "grid = GridSearchCV(model12, param_grid, verbose=3)"
   ]
  },
  {
   "cell_type": "code",
   "execution_count": null,
   "metadata": {},
   "outputs": [
    {
     "name": "stderr",
     "output_type": "stream",
     "text": [
      "/anaconda3/envs/PythonData/lib/python3.6/site-packages/sklearn/model_selection/_split.py:2053: FutureWarning: You should specify a value for 'cv' instead of relying on the default value. The default value will change from 3 to 5 in version 0.22.\n",
      "  warnings.warn(CV_WARNING, FutureWarning)\n",
      "[Parallel(n_jobs=1)]: Using backend SequentialBackend with 1 concurrent workers.\n"
     ]
    },
    {
     "name": "stdout",
     "output_type": "stream",
     "text": [
      "Fitting 3 folds for each of 16 candidates, totalling 48 fits\n",
      "[CV] C=1, gamma=0.0001 ...............................................\n",
      "[CV] ...... C=1, gamma=0.0001, score=0.4642857142857143, total=   6.7s\n",
      "[CV] C=1, gamma=0.0001 ...............................................\n"
     ]
    },
    {
     "name": "stderr",
     "output_type": "stream",
     "text": [
      "[Parallel(n_jobs=1)]: Done   1 out of   1 | elapsed:    6.7s remaining:    0.0s\n"
     ]
    },
    {
     "name": "stdout",
     "output_type": "stream",
     "text": [
      "[CV] ..................... C=1, gamma=0.0001, score=0.5, total=  17.1s\n",
      "[CV] C=1, gamma=0.0001 ...............................................\n"
     ]
    },
    {
     "name": "stderr",
     "output_type": "stream",
     "text": [
      "[Parallel(n_jobs=1)]: Done   2 out of   2 | elapsed:   23.8s remaining:    0.0s\n"
     ]
    },
    {
     "name": "stdout",
     "output_type": "stream",
     "text": [
      "[CV] ...... C=1, gamma=0.0001, score=0.5384615384615384, total=   1.5s\n",
      "[CV] C=1, gamma=0.0005 ...............................................\n",
      "[CV] ...... C=1, gamma=0.0005, score=0.4642857142857143, total=   6.6s\n",
      "[CV] C=1, gamma=0.0005 ...............................................\n",
      "[CV] ..................... C=1, gamma=0.0005, score=0.5, total=  16.9s\n",
      "[CV] C=1, gamma=0.0005 ...............................................\n",
      "[CV] ...... C=1, gamma=0.0005, score=0.5384615384615384, total=   1.5s\n",
      "[CV] C=1, gamma=0.001 ................................................\n",
      "[CV] ....... C=1, gamma=0.001, score=0.4642857142857143, total=   6.4s\n",
      "[CV] C=1, gamma=0.001 ................................................\n",
      "[CV] ...................... C=1, gamma=0.001, score=0.5, total=  16.8s\n",
      "[CV] C=1, gamma=0.001 ................................................\n",
      "[CV] ....... C=1, gamma=0.001, score=0.5384615384615384, total=   1.5s\n",
      "[CV] C=1, gamma=0.005 ................................................\n",
      "[CV] ....... C=1, gamma=0.005, score=0.4642857142857143, total=   6.3s\n",
      "[CV] C=1, gamma=0.005 ................................................\n",
      "[CV] ...................... C=1, gamma=0.005, score=0.5, total=  16.7s\n",
      "[CV] C=1, gamma=0.005 ................................................\n",
      "[CV] ....... C=1, gamma=0.005, score=0.5384615384615384, total=   1.5s\n",
      "[CV] C=5, gamma=0.0001 ...............................................\n",
      "[CV] ...... C=5, gamma=0.0001, score=0.4642857142857143, total=   6.3s\n",
      "[CV] C=5, gamma=0.0001 ...............................................\n",
      "[CV] ..................... C=5, gamma=0.0001, score=0.5, total=  16.6s\n",
      "[CV] C=5, gamma=0.0001 ...............................................\n",
      "[CV] ...... C=5, gamma=0.0001, score=0.5384615384615384, total=   5.3s\n",
      "[CV] C=5, gamma=0.0005 ...............................................\n",
      "[CV] ...... C=5, gamma=0.0005, score=0.4642857142857143, total=   6.3s\n",
      "[CV] C=5, gamma=0.0005 ...............................................\n",
      "[CV] ..................... C=5, gamma=0.0005, score=0.5, total=  16.8s\n",
      "[CV] C=5, gamma=0.0005 ...............................................\n",
      "[CV] ...... C=5, gamma=0.0005, score=0.5384615384615384, total=   5.3s\n",
      "[CV] C=5, gamma=0.001 ................................................\n",
      "[CV] ....... C=5, gamma=0.001, score=0.4642857142857143, total=   6.3s\n",
      "[CV] C=5, gamma=0.001 ................................................\n",
      "[CV] ...................... C=5, gamma=0.001, score=0.5, total=  16.8s\n",
      "[CV] C=5, gamma=0.001 ................................................\n",
      "[CV] ....... C=5, gamma=0.001, score=0.5384615384615384, total=   5.5s\n",
      "[CV] C=5, gamma=0.005 ................................................\n",
      "[CV] ....... C=5, gamma=0.005, score=0.4642857142857143, total=   6.7s\n",
      "[CV] C=5, gamma=0.005 ................................................\n",
      "[CV] ...................... C=5, gamma=0.005, score=0.5, total=  17.7s\n",
      "[CV] C=5, gamma=0.005 ................................................\n",
      "[CV] ....... C=5, gamma=0.005, score=0.5384615384615384, total=   5.5s\n",
      "[CV] C=10, gamma=0.0001 ..............................................\n",
      "[CV] ..... C=10, gamma=0.0001, score=0.4642857142857143, total=   6.6s\n",
      "[CV] C=10, gamma=0.0001 ..............................................\n",
      "[CV] .................... C=10, gamma=0.0001, score=0.5, total=  16.7s\n",
      "[CV] C=10, gamma=0.0001 ..............................................\n",
      "[CV] ..... C=10, gamma=0.0001, score=0.5384615384615384, total=   5.3s\n",
      "[CV] C=10, gamma=0.0005 ..............................................\n",
      "[CV] ..... C=10, gamma=0.0005, score=0.4642857142857143, total=   6.3s\n",
      "[CV] C=10, gamma=0.0005 ..............................................\n",
      "[CV] .................... C=10, gamma=0.0005, score=0.5, total=  16.7s\n",
      "[CV] C=10, gamma=0.0005 ..............................................\n",
      "[CV] ..... C=10, gamma=0.0005, score=0.5384615384615384, total=   5.2s\n",
      "[CV] C=10, gamma=0.001 ...............................................\n",
      "[CV] ...... C=10, gamma=0.001, score=0.4642857142857143, total=   6.3s\n",
      "[CV] C=10, gamma=0.001 ...............................................\n",
      "[CV] ..................... C=10, gamma=0.001, score=0.5, total=  16.7s\n",
      "[CV] C=10, gamma=0.001 ...............................................\n",
      "[CV] ...... C=10, gamma=0.001, score=0.5384615384615384, total=   5.3s\n",
      "[CV] C=10, gamma=0.005 ...............................................\n",
      "[CV] ...... C=10, gamma=0.005, score=0.4642857142857143, total=   6.3s\n",
      "[CV] C=10, gamma=0.005 ...............................................\n",
      "[CV] ..................... C=10, gamma=0.005, score=0.5, total=  16.8s\n",
      "[CV] C=10, gamma=0.005 ...............................................\n",
      "[CV] ...... C=10, gamma=0.005, score=0.5384615384615384, total=   5.3s\n",
      "[CV] C=50, gamma=0.0001 ..............................................\n",
      "[CV] ..... C=50, gamma=0.0001, score=0.4642857142857143, total=   6.5s\n",
      "[CV] C=50, gamma=0.0001 ..............................................\n"
     ]
    }
   ],
   "source": [
    "# Train the model with GridSearch\n",
    "grid.fit(X_train, y_train)"
   ]
  },
  {
   "cell_type": "code",
   "execution_count": null,
   "metadata": {},
   "outputs": [],
   "source": [
    "print(grid2.best_params_)\n",
    "print(grid2.best_score_)"
   ]
  },
  {
   "cell_type": "markdown",
   "metadata": {},
   "source": [
    "## LOGISTIC REGRESSION\n"
   ]
  },
  {
   "cell_type": "code",
   "execution_count": 15,
   "metadata": {},
   "outputs": [
    {
     "data": {
      "text/plain": [
       "LogisticRegression(C=1.0, class_weight=None, dual=False, fit_intercept=True,\n",
       "          intercept_scaling=1, max_iter=100, multi_class='warn',\n",
       "          n_jobs=None, penalty='l2', random_state=None, solver='warn',\n",
       "          tol=0.0001, verbose=0, warm_start=False)"
      ]
     },
     "execution_count": 15,
     "metadata": {},
     "output_type": "execute_result"
    }
   ],
   "source": [
    "from sklearn.linear_model import LogisticRegression\n",
    "classifier = LogisticRegression()\n",
    "classifier"
   ]
  },
  {
   "cell_type": "code",
   "execution_count": 16,
   "metadata": {},
   "outputs": [
    {
     "name": "stderr",
     "output_type": "stream",
     "text": [
      "/anaconda3/envs/PythonData/lib/python3.6/site-packages/sklearn/linear_model/logistic.py:433: FutureWarning: Default solver will be changed to 'lbfgs' in 0.22. Specify a solver to silence this warning.\n",
      "  FutureWarning)\n",
      "/anaconda3/envs/PythonData/lib/python3.6/site-packages/sklearn/linear_model/logistic.py:460: FutureWarning: Default multi_class will be changed to 'auto' in 0.22. Specify the multi_class option to silence this warning.\n",
      "  \"this warning.\", FutureWarning)\n"
     ]
    },
    {
     "data": {
      "text/plain": [
       "LogisticRegression(C=1.0, class_weight=None, dual=False, fit_intercept=True,\n",
       "          intercept_scaling=1, max_iter=100, multi_class='warn',\n",
       "          n_jobs=None, penalty='l2', random_state=None, solver='warn',\n",
       "          tol=0.0001, verbose=0, warm_start=False)"
      ]
     },
     "execution_count": 16,
     "metadata": {},
     "output_type": "execute_result"
    }
   ],
   "source": [
    "classifier.fit(scaled_Xtrain, y_train)"
   ]
  },
  {
   "cell_type": "code",
   "execution_count": 17,
   "metadata": {},
   "outputs": [
    {
     "name": "stdout",
     "output_type": "stream",
     "text": [
      "Training Data Score: 0.8375\n",
      "Testing Data Score: 0.55\n"
     ]
    }
   ],
   "source": [
    "#Refer to compare models\n",
    "print(f\"Training Data Score: {classifier.score(scaled_Xtrain, y_train)}\")\n",
    "print(f\"Testing Data Score: {classifier.score(scaled_Xtest, y_test)}\")"
   ]
  },
  {
   "cell_type": "markdown",
   "metadata": {},
   "source": [
    "## DEEP LEARNING"
   ]
  },
  {
   "cell_type": "code",
   "execution_count": 18,
   "metadata": {},
   "outputs": [
    {
     "name": "stderr",
     "output_type": "stream",
     "text": [
      "Using TensorFlow backend.\n"
     ]
    },
    {
     "ename": "ValueError",
     "evalue": "invalid literal for int() with base 10: 'CANDIDATE'",
     "output_type": "error",
     "traceback": [
      "\u001b[0;31m---------------------------------------------------------------------------\u001b[0m",
      "\u001b[0;31mValueError\u001b[0m                                Traceback (most recent call last)",
      "\u001b[0;32m<ipython-input-18-f9d8ae025680>\u001b[0m in \u001b[0;36m<module>\u001b[0;34m\u001b[0m\n\u001b[1;32m      2\u001b[0m \u001b[0;34m\u001b[0m\u001b[0m\n\u001b[1;32m      3\u001b[0m \u001b[0;31m# One-hot encoding\u001b[0m\u001b[0;34m\u001b[0m\u001b[0;34m\u001b[0m\u001b[0;34m\u001b[0m\u001b[0m\n\u001b[0;32m----> 4\u001b[0;31m \u001b[0my_train_categorical\u001b[0m \u001b[0;34m=\u001b[0m \u001b[0mto_categorical\u001b[0m\u001b[0;34m(\u001b[0m\u001b[0my_train\u001b[0m\u001b[0;34m)\u001b[0m\u001b[0;34m\u001b[0m\u001b[0;34m\u001b[0m\u001b[0m\n\u001b[0m\u001b[1;32m      5\u001b[0m \u001b[0my_test_categorical\u001b[0m \u001b[0;34m=\u001b[0m \u001b[0mto_categorical\u001b[0m\u001b[0;34m(\u001b[0m\u001b[0my_test\u001b[0m\u001b[0;34m)\u001b[0m\u001b[0;34m\u001b[0m\u001b[0;34m\u001b[0m\u001b[0m\n",
      "\u001b[0;32m/anaconda3/envs/PythonData/lib/python3.6/site-packages/keras/utils/np_utils.py\u001b[0m in \u001b[0;36mto_categorical\u001b[0;34m(y, num_classes, dtype)\u001b[0m\n\u001b[1;32m     23\u001b[0m         \u001b[0;32mis\u001b[0m \u001b[0mplaced\u001b[0m \u001b[0mlast\u001b[0m\u001b[0;34m.\u001b[0m\u001b[0;34m\u001b[0m\u001b[0;34m\u001b[0m\u001b[0m\n\u001b[1;32m     24\u001b[0m     \"\"\"\n\u001b[0;32m---> 25\u001b[0;31m     \u001b[0my\u001b[0m \u001b[0;34m=\u001b[0m \u001b[0mnp\u001b[0m\u001b[0;34m.\u001b[0m\u001b[0marray\u001b[0m\u001b[0;34m(\u001b[0m\u001b[0my\u001b[0m\u001b[0;34m,\u001b[0m \u001b[0mdtype\u001b[0m\u001b[0;34m=\u001b[0m\u001b[0;34m'int'\u001b[0m\u001b[0;34m)\u001b[0m\u001b[0;34m\u001b[0m\u001b[0;34m\u001b[0m\u001b[0m\n\u001b[0m\u001b[1;32m     26\u001b[0m     \u001b[0minput_shape\u001b[0m \u001b[0;34m=\u001b[0m \u001b[0my\u001b[0m\u001b[0;34m.\u001b[0m\u001b[0mshape\u001b[0m\u001b[0;34m\u001b[0m\u001b[0;34m\u001b[0m\u001b[0m\n\u001b[1;32m     27\u001b[0m     \u001b[0;32mif\u001b[0m \u001b[0minput_shape\u001b[0m \u001b[0;32mand\u001b[0m \u001b[0minput_shape\u001b[0m\u001b[0;34m[\u001b[0m\u001b[0;34m-\u001b[0m\u001b[0;36m1\u001b[0m\u001b[0;34m]\u001b[0m \u001b[0;34m==\u001b[0m \u001b[0;36m1\u001b[0m \u001b[0;32mand\u001b[0m \u001b[0mlen\u001b[0m\u001b[0;34m(\u001b[0m\u001b[0minput_shape\u001b[0m\u001b[0;34m)\u001b[0m \u001b[0;34m>\u001b[0m \u001b[0;36m1\u001b[0m\u001b[0;34m:\u001b[0m\u001b[0;34m\u001b[0m\u001b[0;34m\u001b[0m\u001b[0m\n",
      "\u001b[0;31mValueError\u001b[0m: invalid literal for int() with base 10: 'CANDIDATE'"
     ]
    }
   ],
   "source": [
    "from keras.utils import to_categorical\n",
    "\n",
    "# One-hot encoding\n",
    "y_train_categorical = to_categorical(y_train)\n",
    "y_test_categorical = to_categorical(y_test)"
   ]
  },
  {
   "cell_type": "code",
   "execution_count": 19,
   "metadata": {},
   "outputs": [
    {
     "name": "stdout",
     "output_type": "stream",
     "text": [
      "WARNING:tensorflow:From /anaconda3/envs/PythonData/lib/python3.6/site-packages/tensorflow/python/framework/op_def_library.py:263: colocate_with (from tensorflow.python.framework.ops) is deprecated and will be removed in a future version.\n",
      "Instructions for updating:\n",
      "Colocations handled automatically by placer.\n"
     ]
    }
   ],
   "source": [
    "# first, create a normal neural network with 2 inputs, 6 hidden nodes, and 2 outputs\n",
    "from keras.models import Sequential\n",
    "from keras.layers import Dense\n",
    "\n",
    "model = Sequential()\n",
    "model.add(Dense(units=6, activation='relu', input_dim=40))\n",
    "model.add(Dense(units=3, activation='softmax'))"
   ]
  },
  {
   "cell_type": "code",
   "execution_count": 20,
   "metadata": {},
   "outputs": [
    {
     "name": "stdout",
     "output_type": "stream",
     "text": [
      "_________________________________________________________________\n",
      "Layer (type)                 Output Shape              Param #   \n",
      "=================================================================\n",
      "dense_1 (Dense)              (None, 6)                 246       \n",
      "_________________________________________________________________\n",
      "dense_2 (Dense)              (None, 3)                 21        \n",
      "=================================================================\n",
      "Total params: 267\n",
      "Trainable params: 267\n",
      "Non-trainable params: 0\n",
      "_________________________________________________________________\n"
     ]
    }
   ],
   "source": [
    "\n",
    "model.summary()"
   ]
  },
  {
   "cell_type": "code",
   "execution_count": 21,
   "metadata": {},
   "outputs": [],
   "source": [
    "\n",
    "# Compile the model\n",
    "model.compile(optimizer='adam',\n",
    "              loss='sparse_categorical_crossentropy',\n",
    "              metrics=['accuracy'])"
   ]
  },
  {
   "cell_type": "code",
   "execution_count": 23,
   "metadata": {},
   "outputs": [
    {
     "name": "stdout",
     "output_type": "stream",
     "text": [
      "WARNING:tensorflow:From /anaconda3/envs/PythonData/lib/python3.6/site-packages/tensorflow/python/ops/math_ops.py:3066: to_int32 (from tensorflow.python.ops.math_ops) is deprecated and will be removed in a future version.\n",
      "Instructions for updating:\n",
      "Use tf.cast instead.\n",
      "Epoch 1/40\n",
      " - 0s - loss: 1.0999 - acc: 0.2750\n",
      "Epoch 2/40\n",
      " - 0s - loss: 1.0966 - acc: 0.2875\n",
      "Epoch 3/40\n",
      " - 0s - loss: 1.0938 - acc: 0.2875\n",
      "Epoch 4/40\n",
      " - 0s - loss: 1.0915 - acc: 0.2625\n",
      "Epoch 5/40\n",
      " - 0s - loss: 1.0892 - acc: 0.2750\n",
      "Epoch 6/40\n",
      " - 0s - loss: 1.0875 - acc: 0.2750\n",
      "Epoch 7/40\n",
      " - 0s - loss: 1.0852 - acc: 0.3125\n",
      "Epoch 8/40\n",
      " - 0s - loss: 1.0833 - acc: 0.3500\n",
      "Epoch 9/40\n",
      " - 0s - loss: 1.0812 - acc: 0.3625\n",
      "Epoch 10/40\n",
      " - 0s - loss: 1.0792 - acc: 0.3625\n",
      "Epoch 11/40\n",
      " - 0s - loss: 1.0770 - acc: 0.3625\n",
      "Epoch 12/40\n",
      " - 0s - loss: 1.0748 - acc: 0.3750\n",
      "Epoch 13/40\n",
      " - 0s - loss: 1.0725 - acc: 0.3875\n",
      "Epoch 14/40\n",
      " - 0s - loss: 1.0699 - acc: 0.3875\n",
      "Epoch 15/40\n",
      " - 0s - loss: 1.0673 - acc: 0.4000\n",
      "Epoch 16/40\n",
      " - 0s - loss: 1.0650 - acc: 0.4250\n",
      "Epoch 17/40\n",
      " - 0s - loss: 1.0625 - acc: 0.4375\n",
      "Epoch 18/40\n",
      " - 0s - loss: 1.0599 - acc: 0.4500\n",
      "Epoch 19/40\n",
      " - 0s - loss: 1.0575 - acc: 0.4500\n",
      "Epoch 20/40\n",
      " - 0s - loss: 1.0547 - acc: 0.4500\n",
      "Epoch 21/40\n",
      " - 0s - loss: 1.0519 - acc: 0.4625\n",
      "Epoch 22/40\n",
      " - 0s - loss: 1.0490 - acc: 0.4625\n",
      "Epoch 23/40\n",
      " - 0s - loss: 1.0460 - acc: 0.4875\n",
      "Epoch 24/40\n",
      " - 0s - loss: 1.0429 - acc: 0.5000\n",
      "Epoch 25/40\n",
      " - 0s - loss: 1.0393 - acc: 0.4875\n",
      "Epoch 26/40\n",
      " - 0s - loss: 1.0361 - acc: 0.4875\n",
      "Epoch 27/40\n",
      " - 0s - loss: 1.0313 - acc: 0.5000\n",
      "Epoch 28/40\n",
      " - 0s - loss: 1.0271 - acc: 0.5250\n",
      "Epoch 29/40\n",
      " - 0s - loss: 1.0230 - acc: 0.5375\n",
      "Epoch 30/40\n",
      " - 0s - loss: 1.0194 - acc: 0.5500\n",
      "Epoch 31/40\n",
      " - 0s - loss: 1.0148 - acc: 0.5625\n",
      "Epoch 32/40\n",
      " - 0s - loss: 1.0107 - acc: 0.5750\n",
      "Epoch 33/40\n",
      " - 0s - loss: 1.0065 - acc: 0.5750\n",
      "Epoch 34/40\n",
      " - 0s - loss: 1.0021 - acc: 0.6000\n",
      "Epoch 35/40\n",
      " - 0s - loss: 0.9975 - acc: 0.6125\n",
      "Epoch 36/40\n",
      " - 0s - loss: 0.9931 - acc: 0.6000\n",
      "Epoch 37/40\n",
      " - 0s - loss: 0.9886 - acc: 0.6000\n",
      "Epoch 38/40\n",
      " - 0s - loss: 0.9836 - acc: 0.6000\n",
      "Epoch 39/40\n",
      " - 0s - loss: 0.9784 - acc: 0.6125\n",
      "Epoch 40/40\n",
      " - 0s - loss: 0.9733 - acc: 0.6125\n"
     ]
    },
    {
     "data": {
      "text/plain": [
       "<keras.callbacks.History at 0x1a3e55a320>"
      ]
     },
     "execution_count": 23,
     "metadata": {},
     "output_type": "execute_result"
    }
   ],
   "source": [
    "\n",
    "# Fit the model to the training data\n",
    "model.fit(\n",
    "    scaled_Xtrain,\n",
    "    y_train_encoded,\n",
    "    epochs=40,\n",
    "    shuffle=True,\n",
    "    verbose=2\n",
    ")"
   ]
  },
  {
   "cell_type": "code",
   "execution_count": null,
   "metadata": {},
   "outputs": [],
   "source": []
  }
 ],
 "metadata": {
  "kernel_info": {
   "name": "dev"
  },
  "kernelspec": {
   "display_name": "Python 3",
   "language": "python",
   "name": "python3"
  },
  "language_info": {
   "codemirror_mode": {
    "name": "ipython",
    "version": 3
   },
   "file_extension": ".py",
   "mimetype": "text/x-python",
   "name": "python",
   "nbconvert_exporter": "python",
   "pygments_lexer": "ipython3",
   "version": "3.6.7"
  },
  "nteract": {
   "version": "0.12.3"
  }
 },
 "nbformat": 4,
 "nbformat_minor": 2
}
